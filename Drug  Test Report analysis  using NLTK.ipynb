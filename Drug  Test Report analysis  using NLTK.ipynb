{
  "nbformat": 4,
  "nbformat_minor": 0,
  "metadata": {
    "colab": {
      "name": "Assignment 3 Big Data .ipynb",
      "provenance": [],
      "collapsed_sections": []
    },
    "kernelspec": {
      "name": "python3",
      "display_name": "Python 3"
    }
  },
  "cells": [
    {
      "cell_type": "markdown",
      "metadata": {
        "id": "Tg0P7kVwbSeA",
        "colab_type": "text"
      },
      "source": [
        "#Analysing Drug Test Feedback   - Assignment 3 - Report"
      ]
    },
    {
      "cell_type": "markdown",
      "metadata": {
        "id": "cDaaAtgMbcxR",
        "colab_type": "text"
      },
      "source": [
        "## Getting Started"
      ]
    },
    {
      "cell_type": "markdown",
      "metadata": {
        "id": "BA0HxWu2bfqz",
        "colab_type": "text"
      },
      "source": [
        "### Downloading the repo and getting dataset "
      ]
    },
    {
      "cell_type": "markdown",
      "metadata": {
        "id": "ghlB36xhW3fP",
        "colab_type": "text"
      },
      "source": [
        "I downloaded the github repository provided on the assignment to get access to drug report dataset. \n",
        "\n",
        "Then , got access to medical terminology using the github repo. [Medical Symptom & Disease](https://github.com/sekharvth/symptom-disease) . THe csv file provided list of terminology of symptom and disease which was used analyse major concern mentioned on the Task 4."
      ]
    },
    {
      "cell_type": "code",
      "metadata": {
        "id": "dOSxPSKqYErF",
        "colab_type": "code",
        "colab": {}
      },
      "source": [
        "!git clone https://github.com/dmollaaliod/itec874-2019.git"
      ],
      "execution_count": 0,
      "outputs": []
    },
    {
      "cell_type": "code",
      "metadata": {
        "id": "6ChG9qOdcAnT",
        "colab_type": "code",
        "colab": {}
      },
      "source": [
        "%cd /content\n",
        "!wget https://raw.githubusercontent.com/sekharvth/symptom-disease/master/Dictionary.csv\n",
        "\n",
        "%cd itec874-2019/assignments\n",
        "!unzip DrugDest.zip\n",
        "\n"
      ],
      "execution_count": 0,
      "outputs": []
    },
    {
      "cell_type": "markdown",
      "metadata": {
        "id": "yJ7H_0y8cfpg",
        "colab_type": "text"
      },
      "source": [
        "### Preparing the data"
      ]
    },
    {
      "cell_type": "markdown",
      "metadata": {
        "id": "0OeYznaZXm_B",
        "colab_type": "text"
      },
      "source": [
        "#### Installing necessary package"
      ]
    },
    {
      "cell_type": "code",
      "metadata": {
        "id": "O7LMaRysUT9h",
        "colab_type": "code",
        "colab": {}
      },
      "source": [
        "!pip install autocorrect\n",
        "!pip install vaderSentiment\n",
        "import nltk\n",
        "nltk.download('vader_lexicon')\n",
        "nltk.download('popular')\n",
        "!pip install textblob"
      ],
      "execution_count": 0,
      "outputs": []
    },
    {
      "cell_type": "markdown",
      "metadata": {
        "id": "4gGHpYLJc5HC",
        "colab_type": "text"
      },
      "source": [
        "#### Importing necessary packages "
      ]
    },
    {
      "cell_type": "code",
      "metadata": {
        "id": "ONMeSdw7cmde",
        "colab_type": "code",
        "colab": {}
      },
      "source": [
        "import glob \n",
        "import pandas as pd \n",
        "import re\n",
        "import numpy as np\n",
        "import matplotlib.pyplot as plt\n",
        "import nltk\n",
        "#call the nltk downloader\n",
        "from vaderSentiment.vaderSentiment import SentimentIntensityAnalyzer\n",
        "from nltk.corpus import stopwords\n",
        "from nltk.stem import WordNetLemmatizer\n",
        "from nltk.corpus import wordnet\n",
        "from autocorrect import Speller\n",
        "# Lemmatize with POS Tag\n",
        "from nltk.corpus import wordnet\n",
        "\n"
      ],
      "execution_count": 0,
      "outputs": []
    },
    {
      "cell_type": "markdown",
      "metadata": {
        "id": "P6DbOQ-1eZdj",
        "colab_type": "text"
      },
      "source": [
        "#### Storing the data got from document to dataframe ,for easier text manipulation and analysis."
      ]
    },
    {
      "cell_type": "code",
      "metadata": {
        "id": "ek1g1NjmesHr",
        "colab_type": "code",
        "outputId": "2025a717-ab14-4766-c7ad-4082fcf9c4ca",
        "colab": {
          "base_uri": "https://localhost:8080/",
          "height": 204
        }
      },
      "source": [
        "data_snap = [];\n",
        "for count , path in enumerate(glob.glob(\"DrugDest/*.txt\")):\n",
        "  f = open(path, \"r\")\n",
        "  text = f.read()\n",
        "  name = path.split('/')[1]\n",
        "  datadir = path.split('/')[0]\n",
        "  new_val = {'filename': name  , 'text':text  , 'word_count':len(text.split())}\n",
        "  data_snap.append(new_val)\n",
        "  f.close()\n",
        "drugDf = pd.DataFrame(data_snap)\n",
        "drugDf.head()\n",
        "\n",
        "   "
      ],
      "execution_count": 5,
      "outputs": [
        {
          "output_type": "execute_result",
          "data": {
            "text/html": [
              "<div>\n",
              "<style scoped>\n",
              "    .dataframe tbody tr th:only-of-type {\n",
              "        vertical-align: middle;\n",
              "    }\n",
              "\n",
              "    .dataframe tbody tr th {\n",
              "        vertical-align: top;\n",
              "    }\n",
              "\n",
              "    .dataframe thead th {\n",
              "        text-align: right;\n",
              "    }\n",
              "</style>\n",
              "<table border=\"1\" class=\"dataframe\">\n",
              "  <thead>\n",
              "    <tr style=\"text-align: right;\">\n",
              "      <th></th>\n",
              "      <th>filename</th>\n",
              "      <th>text</th>\n",
              "      <th>word_count</th>\n",
              "    </tr>\n",
              "  </thead>\n",
              "  <tbody>\n",
              "    <tr>\n",
              "      <th>0</th>\n",
              "      <td>file475.txt.txt</td>\n",
              "      <td>Abidal has taken me out of a deep depression. ...</td>\n",
              "      <td>36</td>\n",
              "    </tr>\n",
              "    <tr>\n",
              "      <th>1</th>\n",
              "      <td>file1533.txt.txt</td>\n",
              "      <td>This is a great medication but it does have si...</td>\n",
              "      <td>38</td>\n",
              "    </tr>\n",
              "    <tr>\n",
              "      <th>2</th>\n",
              "      <td>file1187.txt.txt</td>\n",
              "      <td>Whatever you do, make sure that you do NOT for...</td>\n",
              "      <td>32</td>\n",
              "    </tr>\n",
              "    <tr>\n",
              "      <th>3</th>\n",
              "      <td>file1591.txt.txt</td>\n",
              "      <td>I've been taking Ecstapin about a year but hav...</td>\n",
              "      <td>93</td>\n",
              "    </tr>\n",
              "    <tr>\n",
              "      <th>4</th>\n",
              "      <td>file1851.txt.txt</td>\n",
              "      <td>I have been on Ecstapin for 6 years for anxiet...</td>\n",
              "      <td>274</td>\n",
              "    </tr>\n",
              "  </tbody>\n",
              "</table>\n",
              "</div>"
            ],
            "text/plain": [
              "           filename  ... word_count\n",
              "0   file475.txt.txt  ...         36\n",
              "1  file1533.txt.txt  ...         38\n",
              "2  file1187.txt.txt  ...         32\n",
              "3  file1591.txt.txt  ...         93\n",
              "4  file1851.txt.txt  ...        274\n",
              "\n",
              "[5 rows x 3 columns]"
            ]
          },
          "metadata": {
            "tags": []
          },
          "execution_count": 5
        }
      ]
    },
    {
      "cell_type": "markdown",
      "metadata": {
        "id": "a5WiHYzNjGHQ",
        "colab_type": "text"
      },
      "source": [
        "#### Medication , Dosage and Side Effect\n"
      ]
    },
    {
      "cell_type": "markdown",
      "metadata": {
        "id": "fSJrsQ9YYe2v",
        "colab_type": "text"
      },
      "source": [
        "First , we checked individually every document contains medication , sideeffect , and dosagae mentioned on each document.\n",
        "For that ,  **MedicationConcept.txt** , **SideEffectsConcept.txt**  and **DosageConcept.txt** were\n",
        "individually used to find out the report containing hint of medication , side effect and dosage use respectively."
      ]
    },
    {
      "cell_type": "code",
      "metadata": {
        "id": "H7CaOuWejuAH",
        "colab_type": "code",
        "colab": {}
      },
      "source": [
        "def check_medication(columns):\n",
        "  filename = open('MedicationConcept.txt')\n",
        "  data = filename.read().splitlines()\n",
        "  med_data = [i.split(':')[1].lower() for i in data]\n",
        "  check_medication = [ 'Yes' if any(d in text.lower() for d in med_data) else 'No' for text in columns]\n",
        "  medication_mention = [[d for d in med_data if d in text.lower()] for text in columns]\n",
        "  return check_medication , medication_mention\n",
        "   "
      ],
      "execution_count": 0,
      "outputs": []
    },
    {
      "cell_type": "code",
      "metadata": {
        "id": "T5So5Xo48cl6",
        "colab_type": "code",
        "colab": {}
      },
      "source": [
        "def check_side_effect(columns):\n",
        "  filename = open('SideEffectsConcept.txt')\n",
        "  data = filename.read().splitlines()\n",
        "  med_data = [i.split(':')[1].lower().replace('of|the|in' ,'') for i in data]\n",
        "  check_side_effect = [ 'Yes' if any(all(a in text.lower() for a in d.split())  for d in med_data) else 'No' for text in columns]\n",
        "  side_effect_mention = [[d for d in med_data if all(a in text.lower() for a in d.split()) ] for text in columns]\n",
        "  return check_side_effect , side_effect_mention"
      ],
      "execution_count": 0,
      "outputs": []
    },
    {
      "cell_type": "code",
      "metadata": {
        "id": "-Iubu7Tg8kI7",
        "colab_type": "code",
        "colab": {}
      },
      "source": [
        "\n",
        "def check_dosage(columns):\n",
        "  filename = open('DosageConcept.txt')\n",
        "  data = filename.read().splitlines()\n",
        "  med_data = [i.split(':')[1].lower().replace('of|the|in' ,'') for i in data]\n",
        "  check_dosage = [ 'Yes' if any(re.search(d , text.lower())  for d in med_data) else 'No' for text in columns]\n",
        "  generic_re = re.compile( '|'.join( med_data) )\n",
        "  side_dosage = [re.findall(generic_re , text.lower()) for text in columns ]\n",
        "  return check_dosage , side_dosage"
      ],
      "execution_count": 0,
      "outputs": []
    },
    {
      "cell_type": "code",
      "metadata": {
        "id": "W68PMYMf9oUj",
        "colab_type": "code",
        "colab": {}
      },
      "source": [
        "drugDf['has_medication'], drugDf['medication_mention']= check_medication(drugDf['text'].tolist())\n",
        "drugDf['has_side_effect'] , drugDf['side_effect_mention'] = check_side_effect(drugDf['text'].tolist())\n",
        "drugDf['has_dosage'] , drugDf['side_dosage'] = check_dosage(drugDf['text'].tolist())\n",
        "drugDf"
      ],
      "execution_count": 0,
      "outputs": []
    },
    {
      "cell_type": "markdown",
      "metadata": {
        "id": "GJH2McYWN0U_",
        "colab_type": "text"
      },
      "source": [
        "### TASK 1  "
      ]
    },
    {
      "cell_type": "markdown",
      "metadata": {
        "id": "wXWL3c6ya9uR",
        "colab_type": "text"
      },
      "source": [
        "**Plot a bar chart that shows the number of documents that contain a medication, the number of documents that contain a dosage, and the number of documents that contain a side effect.**"
      ]
    },
    {
      "cell_type": "markdown",
      "metadata": {
        "id": "4WTbu5L4dDWO",
        "colab_type": "text"
      },
      "source": [
        "#### How the chart was produced"
      ]
    },
    {
      "cell_type": "markdown",
      "metadata": {
        "id": "RcUcfu4niKtw",
        "colab_type": "text"
      },
      "source": [
        "To help you with this task, below is a list of definitions that can be used in SAS Viya for Learners wer used:\n",
        "There are individually 3 files that will help to scan concept of the text . \n",
        "\n",
        "\n",
        "- DosageConcept.txt :  Text sample text: He obtained Tenactol 10mg and Revinor 25 mg.\n",
        "- MedicationConcept.txt :  Test sample text: He obtained Tenactol 10mg and Revinor 25 mg.\n",
        "- SideEffectsConcept.txt : Test sample text: Side effects for Zindol are tiredness, weakness, weight gain, and inappropriate giggling."
      ]
    },
    {
      "cell_type": "markdown",
      "metadata": {
        "id": "o3-ZYWZcbVbJ",
        "colab_type": "text"
      },
      "source": [
        "We used python package **matplotlib** for plotting the graph for this task with the help of **DataFrame** sturcture provided by **Panda Package**"
      ]
    },
    {
      "cell_type": "code",
      "metadata": {
        "id": "v_IhXT78Ov6C",
        "colab_type": "code",
        "colab": {}
      },
      "source": [
        "\n",
        "def plot_bar_graph(label , values , title , ylabel , xlabel = '' , figsize = (8,8)):\n",
        "    # this is for plotting purpose\n",
        "    index = np.arange(len(label))\n",
        "    plt.figure(figsize = figsize)\n",
        "\n",
        "    plt.bar(index, values)\n",
        "    plt.xlabel(xlabel)\n",
        "    plt.ylabel(ylabel)\n",
        "    plt.xticks(index, label,  rotation=90)\n",
        "    plt.title(title)\n",
        "    plt.show()"
      ],
      "execution_count": 0,
      "outputs": []
    },
    {
      "cell_type": "code",
      "metadata": {
        "id": "gWWnYpA8PGDe",
        "colab_type": "code",
        "colab": {
          "base_uri": "https://localhost:8080/",
          "height": 545
        },
        "outputId": "a86f5653-9890-43af-bc46-f28fff139351"
      },
      "source": [
        "values = [(drugDf[['has_medication']] == 'Yes').sum()[0], \n",
        "          (drugDf[['has_side_effect']] == 'Yes').sum()[0] , \n",
        "          (drugDf[['has_dosage']]== 'Yes').sum()[0]]\n",
        "\n",
        "legend = ['medication' , 'side_effect' , 'dosage']\n",
        "plot_bar_graph(legend , values , 'Visualizing medication , side effect and dosage use on medical report' , 'No of documents')\n"
      ],
      "execution_count": 11,
      "outputs": [
        {
          "output_type": "display_data",
          "data": {
            "image/png": "[encoded data removed]",
            "text/plain": [
              "<Figure size 576x576 with 1 Axes>"
            ]
          },
          "metadata": {
            "tags": []
          }
        }
      ]
    },
    {
      "cell_type": "markdown",
      "metadata": {
        "id": "XlhYjGGtbulg",
        "colab_type": "text"
      },
      "source": [
        " #### Explanation of Charts"
      ]
    },
    {
      "cell_type": "markdown",
      "metadata": {
        "id": "46mWf6rJb2R5",
        "colab_type": "text"
      },
      "source": [
        "The cart shows that almost **700** document contains the hint of medication ,  nearly **500** document mention side effect while over **300** document mention dosage use.\n",
        "Overall , it can be seen that most of the document mention the medication use doage use has comparetely mentioned by only fewer reports."
      ]
    },
    {
      "cell_type": "markdown",
      "metadata": {
        "id": "am1oDA3Yhqo-",
        "colab_type": "text"
      },
      "source": [
        "### Task 2  : Display the counts of number of documents that mention each of the following medications"
      ]
    },
    {
      "cell_type": "markdown",
      "metadata": {
        "id": "w1lwiek8iStM",
        "colab_type": "text"
      },
      "source": [
        "\n",
        "\n",
        "- Abidal\n",
        "- Cenerol\n",
        "- Ecstapin\n",
        "- Fortifex\n",
        "- Prexifan\n",
        "\n",
        "\n",
        "**Choose the appropriate chart or charts to display this information so that it is easy to compare the numbers of documents for each medication.** "
      ]
    },
    {
      "cell_type": "markdown",
      "metadata": {
        "id": "MolrWLLCdZhI",
        "colab_type": "text"
      },
      "source": [
        "#### How the chart was produced"
      ]
    },
    {
      "cell_type": "markdown",
      "metadata": {
        "id": "HA4tTFk0dbew",
        "colab_type": "text"
      },
      "source": [
        "First , made an array of provided medication , then checked **DataFrame** column to find the how many document mention each medication. Then , finally **matplotlib** was used to plot the bar graph showing each medication count."
      ]
    },
    {
      "cell_type": "code",
      "metadata": {
        "id": "eJ02vbxohz2p",
        "colab_type": "code",
        "colab": {}
      },
      "source": [
        "def count_medicine(df , med) : \n",
        "  found_array = [df.text.str.contains(m).sum() for m in med ]\n",
        "  return found_array"
      ],
      "execution_count": 0,
      "outputs": []
    },
    {
      "cell_type": "code",
      "metadata": {
        "id": "R5lnREXEhsuj",
        "colab_type": "code",
        "colab": {
          "base_uri": "https://localhost:8080/",
          "height": 531
        },
        "outputId": "53366c8c-25e9-4ecf-9e44-6d18662def6f"
      },
      "source": [
        "legend = ['Abidal' , 'Cenerol' , 'Ecstapin' , 'Fortifex' , 'Prexifan']\n",
        "values = count_medicine(drugDf , legend )\n",
        "\n",
        "plot_bar_graph(legend , values , \"Mention of medication on drug report\" , \"No of documents\")\n"
      ],
      "execution_count": 13,
      "outputs": [
        {
          "output_type": "display_data",
          "data": {
            "image/png": "[encoded data removed]",
            "text/plain": [
              "<Figure size 576x576 with 1 Axes>"
            ]
          },
          "metadata": {
            "tags": []
          }
        }
      ]
    },
    {
      "cell_type": "markdown",
      "metadata": {
        "id": "6R94qg80d6YS",
        "colab_type": "text"
      },
      "source": [
        "#### Chart Explanation"
      ]
    },
    {
      "cell_type": "markdown",
      "metadata": {
        "id": "SThMFnfyeYhm",
        "colab_type": "text"
      },
      "source": [
        "Overall , most of the document seem to mention medication **Abidal** while only few document mention the medication of **Fortifex**. \n",
        "\n",
        "It seems , **Ecstapin** has similar amount mention as **Abidal** medication.\n",
        "\n",
        "Only below 100 documents mention **Prexifan** and **Cenerol** was mentioned almost by 50 documents to be exact."
      ]
    },
    {
      "cell_type": "markdown",
      "metadata": {
        "id": "H00oih-MnwGa",
        "colab_type": "text"
      },
      "source": [
        "### Task 3 : Identify the medications that are associated with sleep issues"
      ]
    },
    {
      "cell_type": "markdown",
      "metadata": {
        "id": "Az3ZOwPIn3Aa",
        "colab_type": "text"
      },
      "source": [
        "**. Your chart or charts should clearly indicate which medications have stronger associations with sleep issues, and they should quantify the degree of association.**"
      ]
    },
    {
      "cell_type": "markdown",
      "metadata": {
        "id": "VyJk829TfqtI",
        "colab_type": "text"
      },
      "source": [
        "#### How the chart was produced"
      ]
    },
    {
      "cell_type": "markdown",
      "metadata": {
        "id": "uL9mPCc9f3Py",
        "colab_type": "text"
      },
      "source": [
        "\n",
        "\n",
        "First all the text from the report was tokenized and converted into base form using **NLTK** package. The **lemmatize** package with **post_tag** provide by **NLTK** was used to simplify the text. Synomyns and antonyms of word **Sleep** was used to find the sleep issue related with each medication. \n",
        "For medication related to reprot filename **MedicationConcept.txt** provided on assignment description was used."
      ]
    },
    {
      "cell_type": "markdown",
      "metadata": {
        "id": "L8Em8XdKi2lY",
        "colab_type": "text"
      },
      "source": [
        "**Odd ratio** of sleep related with each medication count and sleep mentioned count , was used to quantify sleep association with each medication."
      ]
    },
    {
      "cell_type": "code",
      "metadata": {
        "id": "DpA71KGur69J",
        "colab_type": "code",
        "colab": {}
      },
      "source": [
        "\n",
        "\n",
        "def get_wordnet_pos(word):\n",
        "    \"\"\"Map POS tag to first character lemmatize() accepts\"\"\"\n",
        "    tag = nltk.pos_tag([word])[0][1][0].upper()\n",
        "    tag_dict = {\"J\": wordnet.ADJ,\n",
        "                \"N\": wordnet.NOUN,\n",
        "                \"V\": wordnet.VERB,\n",
        "                \"R\": wordnet.ADV}\n",
        "\n",
        "    return tag_dict.get(tag, wordnet.NOUN)"
      ],
      "execution_count": 0,
      "outputs": []
    },
    {
      "cell_type": "code",
      "metadata": {
        "id": "UaiLkH6ystQ_",
        "colab_type": "code",
        "colab": {}
      },
      "source": [
        "\n",
        "def filter_and_leamtize_sentences(text):\n",
        "  \"\"\" Tokenize , removes stopwords and lemantize sentence to its base form\"\"\"\n",
        "  # Tokenize: Split the sentence into words\n",
        "  stop_words=set(stopwords.words(\"english\"))\n",
        "  word_list = nltk.word_tokenize(text)\n",
        "  filtered_text = [w for w in word_list if w not in stop_words]\n",
        "  lem = WordNetLemmatizer()\n",
        "  lemmatized_output = ' '.join([lem.lemmatize(w ,get_wordnet_pos(w) ) for w in filtered_text ])\n",
        "  return lemmatized_output"
      ],
      "execution_count": 0,
      "outputs": []
    },
    {
      "cell_type": "code",
      "metadata": {
        "id": "VetFd9Tzn75W",
        "colab_type": "code",
        "colab": {}
      },
      "source": [
        " \n",
        "def get_word_synonyms_antonyms(word):\n",
        "  \"\"\" Get the synonyms of the word , \n",
        "  in this case synonyms of sleep, to check if its interpated on other ways as well.\"\"\"\n",
        "  syns = wordnet.synsets(word)\n",
        "  syn = [a.name() for s in syns for a in s.lemmas()]\n",
        "  antonym =[ a.antonyms()[0].name() for s in syns for a in s.lemmas() if a.antonyms()]\n",
        "  word_to_look = syn + antonym \n",
        "  unique = np.unique(word_to_look)\n",
        "  # print(unique)\n",
        "  return unique"
      ],
      "execution_count": 0,
      "outputs": []
    },
    {
      "cell_type": "code",
      "metadata": {
        "id": "eU1IaMy3AEKJ",
        "colab_type": "code",
        "colab": {}
      },
      "source": [
        "drugDf['cleansed_text'] = [filter_and_leamtize_sentences(w) for w in drugDf['text'].tolist()]\n",
        "slp_syno = get_word_synonyms_antonyms('sleep')\n",
        "# mention_of_sleep = [ text.count('sleep') for text in drugDf['cleansed_text'].tolist()]\n",
        "\n",
        "mention_of_sleep = [[text.count(slp) for slp in slp_syno] for text in drugDf['cleansed_text'].tolist()]\n",
        "drugDf['sleep_count'] = [sum(ind) for ind in mention_of_sleep]\n",
        "\n",
        "# drugDf['sleep_count'] = mention_of_sleep\n"
      ],
      "execution_count": 0,
      "outputs": []
    },
    {
      "cell_type": "code",
      "metadata": {
        "id": "UBSEZYkZrfEm",
        "colab_type": "code",
        "colab": {}
      },
      "source": [
        "def plot_hor_bar(label , values , title , ylabel , xlabel = '' , figsize = (8,8)):\n",
        "    # this is for plotting purpose\n",
        "    index = np.arange(len(label))\n",
        "    \n",
        "\n",
        "    fig, ax = plt.subplots(figsize=figsize)\n",
        "\n",
        "\n",
        "    ax.barh(index , values ,align='center')\n",
        "    ax.set_yticks(index)\n",
        "    ax.set_yticklabels(label)\n",
        "    ax.invert_yaxis()  # labels read top-to-bottom\n",
        "    ax.set_xlabel(ylabel)\n",
        "    ax.set_ylabel(xlabel)\n",
        "    ax.set_title(title)\n",
        "    plt.show()\n",
        "    "
      ],
      "execution_count": 0,
      "outputs": []
    },
    {
      "cell_type": "code",
      "metadata": {
        "id": "TgFKIZXnJrAw",
        "colab_type": "code",
        "colab": {
          "base_uri": "https://localhost:8080/",
          "height": 910
        },
        "outputId": "550c8ef2-03f7-41d8-eab8-051ad17519cd"
      },
      "source": [
        "%cd /content/itec874-2019/assignments\n",
        "filename = open('MedicationConcept.txt')\n",
        "data = filename.read().splitlines()\n",
        "med_data = [i.split(':')[1] for i in data]\n",
        "med_data_count = [sum(x.count(med.lower()) for x in drugDf['medication_mention']) for med in med_data]\n",
        "\n",
        "filter_df_list = [(drugDf[drugDf.medication_mention.apply(lambda a: med.lower() in a)]) for med in med_data]\n",
        "\n",
        "med_sleep_count = [sum(l['sleep_count']) for l in  filter_df_list ]\n",
        "\n",
        "slp_count_sum = sum(drugDf['sleep_count'])\n",
        "\n",
        "\n",
        "medDf = pd.DataFrame({'medication': med_data , 'med_count':med_data_count ,\n",
        "                      'sleep_count':med_sleep_count  })\n",
        "medDf['sleep_issue_prob'] = [row['sleep_count'] / row['med_count'] \n",
        "                             if row['med_count'] > 0 else 0 for i, row in medDf.iterrows() ]\n",
        "\n",
        "medDf = medDf.sort_values(by='sleep_issue_prob' , ascending = False)\n",
        "eliminate_zero_medDf = medDf[medDf.sleep_issue_prob != 0]\n",
        "plot_hor_bar(eliminate_zero_medDf['medication'].tolist() ,\n",
        "               eliminate_zero_medDf['sleep_issue_prob'].tolist(), \n",
        "               \"Association between medication and sleep issue reported \", \n",
        "               \"Odd ratio of sleep issue with medication\" , xlabel = ' medication list ', figsize=(7,15))\n",
        "\n"
      ],
      "execution_count": 20,
      "outputs": [
        {
          "output_type": "stream",
          "text": [
            "/content/itec874-2019/assignments\n"
          ],
          "name": "stdout"
        },
        {
          "output_type": "display_data",
          "data": {
            "image/png": "[encoded data removed]",
            "text/plain": [
              "<Figure size 504x1080 with 1 Axes>"
            ]
          },
          "metadata": {
            "tags": []
          }
        }
      ]
    },
    {
      "cell_type": "markdown",
      "metadata": {
        "id": "uljIhbb2ibdK",
        "colab_type": "text"
      },
      "source": [
        "#### Evaluation of the chart."
      ]
    },
    {
      "cell_type": "markdown",
      "metadata": {
        "id": "3J56tbOrilma",
        "colab_type": "text"
      },
      "source": [
        "It seems **Bifental** medication has higher association with the sleep issue while **Meriflex** had less association with sleep issue. \n",
        "\n",
        "Other medication which is not mentioned  on the graph has shown no mention of **sleep** issues based on word count."
      ]
    },
    {
      "cell_type": "markdown",
      "metadata": {
        "id": "QPScQYFMwJXj",
        "colab_type": "text"
      },
      "source": [
        "### Task 4 (5 marks) - What are the most common concerns expressed?"
      ]
    },
    {
      "cell_type": "markdown",
      "metadata": {
        "id": "mey_Bh-qwMGW",
        "colab_type": "text"
      },
      "source": [
        "**To complete this task, you need to determine the main concerns expressed in the posts. For this task you are free to use any tools or combination of tools. Make sure that you explain what tools you are using and how, and how to read the charts that you produce.**"
      ]
    },
    {
      "cell_type": "markdown",
      "metadata": {
        "id": "Px81lwzlk4-l",
        "colab_type": "text"
      },
      "source": [
        "#### How the chart was produced"
      ]
    },
    {
      "cell_type": "markdown",
      "metadata": {
        "id": "-D8QTP3AlBdC",
        "colab_type": "text"
      },
      "source": [
        "First medical term containing the symptoms and diseases was cloned by using github repo [sekharvth/symptom-disease](https://github.com/sekharvth/symptom-disease). This was used as the base word to evaluate the concerned major on the drug report.\n",
        "\n",
        "Rather of doing the evaluation on the single document , the evaluation was done by combining all report and analyzed whole report to get major concerns.\n",
        "\n",
        "Chart was produced  using **panda** plot function provided by **DataFrame** structure.\n",
        "Among other concerned present on the report only 20 major concerned were used to plot on the bar graph on descending order of mention."
      ]
    },
    {
      "cell_type": "code",
      "metadata": {
        "id": "Q7YTKcBTIgOT",
        "colab_type": "code",
        "colab": {}
      },
      "source": [
        "def analyse_concern(term , columns):\n",
        "  full_text = \" \".join(columns.tolist())\n",
        "  major_concern = [ full_text.count(d) for d in term.tolist() ]\n",
        "  return major_concern"
      ],
      "execution_count": 0,
      "outputs": []
    },
    {
      "cell_type": "code",
      "metadata": {
        "id": "45eNiPMqIBW1",
        "colab_type": "code",
        "colab": {
          "base_uri": "https://localhost:8080/",
          "height": 426
        },
        "outputId": "e22058d4-ec7d-4d87-f8d0-f2cca8f712cb"
      },
      "source": [
        "%cd /content\n",
        "medical_term_DF = pd.read_csv('Dictionary.csv')\n",
        "\n",
        "medical_term_DF['Values'] = analyse_concern(medical_term_DF['Key'] , drugDf['text'])\n",
        "# print(medical_term_DF.shape)\n",
        "\n",
        "medical_term_DF =medical_term_DF[medical_term_DF.Values != 0]\n",
        "medical_term_DF = medical_term_DF.sort_values(by='Values' , ascending=False)\n",
        "plot_bar_graph(medical_term_DF['Key'][:20] , medical_term_DF['Values'][:20], \" Top 20 Major concerned on the medical report\" ,\n",
        "               ylabel=' Mentioned count' , xlabel='Major Concerns on report' , figsize=(15,5))"
      ],
      "execution_count": 22,
      "outputs": [
        {
          "output_type": "stream",
          "text": [
            "/content\n"
          ],
          "name": "stdout"
        },
        {
          "output_type": "display_data",
          "data": {
            "image/png": "[encoded data removed]",
            "text/plain": [
              "<Figure size 1080x360 with 1 Axes>"
            ]
          },
          "metadata": {
            "tags": []
          }
        }
      ]
    },
    {
      "cell_type": "markdown",
      "metadata": {
        "id": "3QyVDhJGmP6r",
        "colab_type": "text"
      },
      "source": [
        "#### Evaluation of the Chart"
      ]
    },
    {
      "cell_type": "markdown",
      "metadata": {
        "id": "JGJaAh0VmXwT",
        "colab_type": "text"
      },
      "source": [
        "It seems the major concern on the repor is **Pain** followed by **Nausea** , **Headache** , **dizziness** and **suicidal**. But the different on the conern **Pain** is very much higher than other concern. \n",
        "\n",
        "Among Top 20 concern **neuropathy** was the least concern on the document."
      ]
    },
    {
      "cell_type": "markdown",
      "metadata": {
        "id": "w72RuUjrNeK2",
        "colab_type": "text"
      },
      "source": [
        "#### Task 5 (5 marks) - Provide useful additional information."
      ]
    },
    {
      "cell_type": "markdown",
      "metadata": {
        "id": "1Aj4PUS6Nhj_",
        "colab_type": "text"
      },
      "source": [
        "**This final task is open. Provide additional charts that would help the analyst find additional useful information about drug effects on patients. For this task, in addition to explaining how the charts were produced and how to read them, it is important that you explain how the information is useful.**"
      ]
    },
    {
      "cell_type": "markdown",
      "metadata": {
        "id": "lfwe7jhAnWHy",
        "colab_type": "text"
      },
      "source": [
        "#### What was done and How chart was produced"
      ]
    },
    {
      "cell_type": "markdown",
      "metadata": {
        "id": "Gzxc8btfnbWf",
        "colab_type": "text"
      },
      "source": [
        "For final task , we used centemental analysis of each document categorizing each report to 3 sentiments , **Positive** , **Negative** and **Neutral** . \n",
        "\n",
        "I have used  **VADER** SentimentIntensityAnalyzer class to analyze sentiment associated with each document. \n",
        "\n",
        "For each document , the sentiment analyzer gives , postive , negative and composite score. We considered the postive score to consider the sentiment of the report.\n",
        "\n",
        "Then the chart visaulized the overall no of document containing each kind of sentiment. \n",
        "\n",
        "This can be useful to visualize what kind of sentiment is more associated with the drug report."
      ]
    },
    {
      "cell_type": "code",
      "metadata": {
        "id": "6dLGkEzcO9dt",
        "colab_type": "code",
        "colab": {}
      },
      "source": [
        "\n",
        "def sentiment_analysis(doc_lists):\n",
        "    sentiments_text_array = []\n",
        "    sent_score_array = []\n",
        "    comp_score_array = []\n",
        "    sid = SentimentIntensityAnalyzer()\n",
        "    for tw in doc_lists:\n",
        "        \n",
        "      score = sid.polarity_scores(tw)\n",
        "\n",
        "      comp_score = score['compound']\n",
        "\n",
        "      if comp_score > 0.05 :\n",
        "        txt =\"Positive\"\n",
        "      elif(comp_score > -0.05) and (comp_score < 0.05):\n",
        "        txt = \"Neutral\"\n",
        "      else : \n",
        "        txt = \"Negative\"\n",
        "      sentiments_text_array.append(txt)\n",
        "      \n",
        "      comp_score_array.append(comp_score)\n",
        "\n",
        "      sent_score_array.append(score)\n",
        "        \n",
        "    return sentiments_text_array , sent_score_array , comp_score_array"
      ],
      "execution_count": 0,
      "outputs": []
    },
    {
      "cell_type": "code",
      "metadata": {
        "id": "YHSKsVirPd8G",
        "colab_type": "code",
        "colab": {
          "base_uri": "https://localhost:8080/",
          "height": 347
        },
        "outputId": "3af76b42-155c-4a8c-e4f1-56fb7c12fbbe"
      },
      "source": [
        "\n",
        "sid = SentimentIntensityAnalyzer()\n",
        "\n",
        "sentiment_Df = pd.DataFrame()\n",
        "\n",
        "sentiment_Df['text'] = drugDf['text']\n",
        "\n",
        "sentiment_Df['sentiment'] , sentiment_Df['sentiment_score'] , sentiment_Df['compound_sentiment'] = sentiment_analysis(sentiment_Df['text'].values)\n",
        "\n",
        "\n",
        "sentiment_Df.head()\n",
        "\n",
        "\n",
        "plot = pd.value_counts(sentiment_Df['sentiment']).plot.bar( color=['red', 'green', 'blue'])\n",
        "\n",
        "plot.set_xlabel(\"Sentiment \")\n",
        "\n",
        "plot.set_ylabel(\"Document count\")\n",
        "\n",
        "plot.set_title(\"Drug Report  Sentiment analysis\")"
      ],
      "execution_count": 24,
      "outputs": [
        {
          "output_type": "execute_result",
          "data": {
            "text/plain": [
              "Text(0.5, 1.0, 'Drug Report  Sentiment analysis')"
            ]
          },
          "metadata": {
            "tags": []
          },
          "execution_count": 24
        },
        {
          "output_type": "display_data",
          "data": {
            "image/png": "[encoded data removed]",
            "text/plain": [
              "<Figure size 432x288 with 1 Axes>"
            ]
          },
          "metadata": {
            "tags": []
          }
        }
      ]
    },
    {
      "cell_type": "markdown",
      "metadata": {
        "id": "7qHL6O4korjo",
        "colab_type": "text"
      },
      "source": [
        "#### Explanation of the chart \n",
        "\n"
      ]
    },
    {
      "cell_type": "markdown",
      "metadata": {
        "id": "qi8R--jsovX9",
        "colab_type": "text"
      },
      "source": [
        "It seems the major of the sentiment related with the document is **Negative** and least one is **Neutral**. \n",
        "\n",
        "It seems around **500** document mention positive sentiment. \n",
        "\n",
        "Overall , the medication report seems to have more negative impact/sentiment than postive."
      ]
    }
  ]
}